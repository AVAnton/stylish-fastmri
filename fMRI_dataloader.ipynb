{
 "cells": [
  {
   "cell_type": "code",
   "execution_count": 1,
   "metadata": {},
   "outputs": [],
   "source": [
    "import torch\n",
    "import numpy as np\n",
    "import torch.nn as nn\n",
    "import torch.nn.functional as F\n",
    "from sklearn.model_selection import train_test_split\n",
    "from torch.utils.data import Dataset\n",
    "import os\n",
    "import h5py\n",
    "import matplotlib.pyplot as plt"
   ]
  },
  {
   "cell_type": "code",
   "execution_count": 2,
   "metadata": {},
   "outputs": [],
   "source": [
    "path=\".\\dataset\\singlecoil_val\""
   ]
  },
  {
   "cell_type": "code",
   "execution_count": 3,
   "metadata": {},
   "outputs": [],
   "source": [
    "def revert_mask(mask):\n",
    "    return (mask - 1) * -1\n",
    "\n",
    "def lh_pass_filter(ks,low_radius,high_radius):\n",
    "  l_r = np.hypot(*ks.shape) / 2 * low_radius / 100\n",
    "  h_r = np.hypot(*ks.shape) / 2 * high_radius / 100\n",
    "  rows, cols = np.array(ks.shape, dtype=int)\n",
    "  a, b = np.floor(np.array((rows, cols)) / 2).astype(np.int)\n",
    "  y, x = np.ogrid[-a:rows - a, -b:cols - b]\n",
    "  mask_h = x * x + y * y >= h_r * h_r\n",
    "  mask_l = x * x + y * y <= l_r * l_r\n",
    "  ks[mask_h] = 0\n",
    "  ks[mask_l] = 0\n",
    "  return ks,  revert_mask(mask_h | mask_l)\n",
    "\n",
    "def image_from_k(slice_kspace):\n",
    "    k_shift_kspace = np.fft.ifftshift(slice_kspace, axes=(-2, -1))  \n",
    "    image_kspace = np.fft.ifft2(k_shift_kspace)  \n",
    "    image_shift_kspace = np.fft.fftshift(image_kspace)  \n",
    "    return np.abs(image_shift_kspace)\n",
    "\n",
    "\n",
    "def to_tensor(data):\n",
    "    \"\"\"\n",
    "    Convert numpy array to PyTorch tensor. For complex arrays, the real and imaginary parts\n",
    "    are stacked along the last dimension. Noop if data is already a Pytorch tensor\n",
    "    Args:\n",
    "        data (np.array): Input numpy array\n",
    "    Returns:\n",
    "        torch.Tensor: PyTorch version of data\n",
    "    \"\"\"\n",
    "    if isinstance(data, torch.Tensor):\n",
    "        return data\n",
    "    if np.iscomplexobj(data):\n",
    "        data = np.stack((data.real, data.imag), axis=-1)\n",
    "    return torch.from_numpy(data)\n"
   ]
  },
  {
   "cell_type": "code",
   "execution_count": 4,
   "metadata": {},
   "outputs": [],
   "source": [
    "class CustomDataSet(Dataset):\n",
    "    def __init__(self, main_dir,slice_n=0,freq_l=0,freq_r=20,transform = None,):\n",
    "        self.main_dir = main_dir\n",
    "        all_imgs = os.listdir(main_dir)\n",
    "        self.total_imgs = all_imgs\n",
    "        self.slice_n=slice_n\n",
    "        self.freq_l=freq_l\n",
    "        self.freq_r=freq_r\n",
    "    def __len__(self):\n",
    "        return len(self.total_imgs)\n",
    "\n",
    "    def __getitem__(self, idx):\n",
    "        \n",
    "        fname = self.total_imgs[idx]\n",
    "        s=str(self.main_dir)+str('\\\\')+str(fname)\n",
    "        hf = h5py.File(s, 'r')\n",
    "        known_freq = hf[\"kspace\"][self.slice_n]\n",
    "        known_image= image_from_k(known_freq)\n",
    "        ks,mask = lh_pass_filter(known_freq,self.freq_l,self.freq_r)\n",
    "        image=image_from_k(ks)\n",
    "            \n",
    "        sample = (image, known_freq, known_image, mask)\n",
    "\n",
    "        return sample"
   ]
  },
  {
   "cell_type": "code",
   "execution_count": 5,
   "metadata": {},
   "outputs": [],
   "source": [
    "my_dataset = CustomDataSet(path,slice_n=20)\n",
    "val_loader = torch.utils.data.DataLoader(my_dataset , batch_size=1, shuffle=False)"
   ]
  },
  {
   "cell_type": "code",
   "execution_count": 7,
   "metadata": {},
   "outputs": [],
   "source": [
    "# for image, known_freq, known_image, mask in val_loader:\n",
    "#     print(image.shape,known_freq.shape, known_image.shape, mask.shape)\n",
    "#     plt.imshow(mask[0,:,:])"
   ]
  },
  {
   "cell_type": "code",
   "execution_count": null,
   "metadata": {},
   "outputs": [],
   "source": []
  }
 ],
 "metadata": {
  "kernelspec": {
   "display_name": "Python 3",
   "language": "python",
   "name": "python3"
  },
  "language_info": {
   "codemirror_mode": {
    "name": "ipython",
    "version": 3
   },
   "file_extension": ".py",
   "mimetype": "text/x-python",
   "name": "python",
   "nbconvert_exporter": "python",
   "pygments_lexer": "ipython3",
   "version": "3.8.5"
  }
 },
 "nbformat": 4,
 "nbformat_minor": 4
}
